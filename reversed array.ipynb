{
  "nbformat": 4,
  "nbformat_minor": 0,
  "metadata": {
    "colab": {
      "provenance": [],
      "toc_visible": true,
      "authorship_tag": "ABX9TyOVg1cNIZo+rUVHy8xu5N+C",
      "include_colab_link": true
    },
    "kernelspec": {
      "name": "python3",
      "display_name": "Python 3"
    },
    "language_info": {
      "name": "python"
    }
  },
  "cells": [
    {
      "cell_type": "markdown",
      "metadata": {
        "id": "view-in-github",
        "colab_type": "text"
      },
      "source": [
        "<a href=\"https://colab.research.google.com/github/allenpatrickargente/CPEN65-2-1/blob/main/reversed%20array.ipynb\" target=\"_parent\"><img src=\"https://colab.research.google.com/assets/colab-badge.svg\" alt=\"Open In Colab\"/></a>"
      ]
    },
    {
      "cell_type": "code",
      "execution_count": 22,
      "metadata": {
        "colab": {
          "base_uri": "https://localhost:8080/"
        },
        "id": "BBDzHVjOs6C9",
        "outputId": "484c116a-4476-4cd2-e839-4a51bd785839"
      },
      "outputs": [
        {
          "output_type": "stream",
          "name": "stdout",
          "text": [
            "Original Array is : ('A', 'l', 'l', 'e', 'n', 'P', 'a', 't', 'r', 'i', 'c', 'k', 'A', 'r', 'g', 'e', 'n', 't', 'e')\n",
            "reversed Array: ['e', 't', 'n', 'e', 'g', 'r', 'A', 'k', 'c', 'i', 'r', 't', 'a', 'P', 'n', 'e', 'l', 'l', 'A']\n"
          ]
        }
      ],
      "source": [
        "fullname = [\"A\",\"l\",\"l\",\"e\",\"n\",\"P\",\"a\",\"t\",\"r\",\"i\",\"c\",\"k\",\"A\",\"r\",\"g\",\"e\",\"n\",\"t\",\"e\"]\n",
        "print(\"Original Array is :\",fullname)\n",
        "result=list(reversed(fullname))\n",
        "print(\"reversed Array:\",result)\n"
      ]
    }
  ]
}