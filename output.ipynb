{
  "nbformat": 4,
  "nbformat_minor": 0,
  "metadata": {
    "colab": {
      "provenance": [],
      "authorship_tag": "ABX9TyO7ZEC5+r2l9pj5lb6TZ+ua",
      "include_colab_link": true
    },
    "kernelspec": {
      "name": "python3",
      "display_name": "Python 3"
    },
    "language_info": {
      "name": "python"
    }
  },
  "cells": [
    {
      "cell_type": "markdown",
      "metadata": {
        "id": "view-in-github",
        "colab_type": "text"
      },
      "source": [
        "<a href=\"https://colab.research.google.com/github/allenpatrickargente/CPEN65-2-1/blob/main/output.ipynb\" target=\"_parent\"><img src=\"https://colab.research.google.com/assets/colab-badge.svg\" alt=\"Open In Colab\"/></a>"
      ]
    },
    {
      "cell_type": "code",
      "execution_count": null,
      "metadata": {
        "colab": {
          "base_uri": "https://localhost:8080/"
        },
        "id": "VpKw3Uvy4fbh",
        "outputId": "9aa70000-101c-41f3-d796-5ec4cc98cb5a"
      },
      "outputs": [
        {
          "output_type": "stream",
          "name": "stdout",
          "text": [
            "Enter the difficulty level (easy, medium, hard): hard\n",
            "5 * 5 = 25\n",
            "Correct!\n",
            "Quiz complete. You scored 1 out of 1.\n"
          ]
        }
      ],
      "source": [
        "class Node:\n",
        "    def __init__(self, data, next=None):\n",
        "        self.data = data\n",
        "        self.next = next\n",
        "\n",
        "class Quiz:\n",
        "    def __init__(self):\n",
        "        self.easy_questions = None\n",
        "        self.medium_questions = None\n",
        "        self.hard_questions = None\n",
        "\n",
        "    def add_question(self, question, answer, difficulty):\n",
        "        new_node = Node((question, answer))\n",
        "        if difficulty == \"easy\":\n",
        "            new_node.next = self.easy_questions\n",
        "            self.easy_questions = new_node\n",
        "        elif difficulty == \"medium\":\n",
        "            new_node.next = self.medium_questions\n",
        "            self.medium_questions = new_node\n",
        "        elif difficulty == \"hard\":\n",
        "            new_node.next = self.hard_questions\n",
        "            self.hard_questions = new_node\n",
        "\n",
        "    def take_quiz(self, difficulty):\n",
        "        if difficulty == \"easy\":\n",
        "            current = self.easy_questions\n",
        "        elif difficulty == \"medium\":\n",
        "            current = self.medium_questions\n",
        "        elif difficulty == \"hard\":\n",
        "            current = self.hard_questions\n",
        "        else:\n",
        "            print(\"Invalid difficulty level\")\n",
        "            return\n",
        "\n",
        "        score = 0\n",
        "        while current:\n",
        "            question, answer = current.data\n",
        "            user_answer = input(question + \" = \")\n",
        "            if user_answer == str(answer):\n",
        "                score += 1\n",
        "                print(\"Correct!\")\n",
        "            else:\n",
        "                print(\"Incorrect.\")\n",
        "            current = current.next\n",
        "        print(\"Quiz complete. You scored \" + str(score) + \" out of \" + str(self.question_count(difficulty)) + \".\")\n",
        "\n",
        "    def question_count(self, difficulty):\n",
        "        if difficulty == \"easy\":\n",
        "            current = self.easy_questions\n",
        "        elif difficulty == \"medium\":\n",
        "            current = self.medium_questions\n",
        "        elif difficulty == \"hard\":\n",
        "            current = self.hard_questions\n",
        "        else:\n",
        "            return None\n",
        "\n",
        "        count = 0\n",
        "        while current:\n",
        "            count += 1\n",
        "            current = current.next\n",
        "        return count\n",
        "\n",
        "quiz = Quiz()\n",
        "quiz.add_question(\"2 + 2\", 4, \"easy\")\n",
        "quiz.add_question(\"5 - 3\", 2, \"easy\")\n",
        "quiz.add_question(\"10 * 2\", 20, \"medium\")\n",
        "quiz.add_question(\"5 * 5\", 25, \"hard\")\n",
        "difficulty = input(\"Enter the difficulty level (easy, medium, hard): \")\n",
        "quiz.take_quiz(difficulty)"
      ]
    },
    {
      "cell_type": "code",
      "source": [],
      "metadata": {
        "colab": {
          "base_uri": "https://localhost:8080/"
        },
        "id": "aEE4cEp0723i",
        "outputId": "5e448f24-b02f-42a7-81e2-2b69d02e594b"
      },
      "execution_count": null,
      "outputs": [
        {
          "output_type": "stream",
          "name": "stdout",
          "text": [
            "What is 2 + 2? 4\n",
            "Correct!\n",
            "What is 8 / 4? 2\n",
            "Correct!\n",
            "What is 5 - 3? 2\n",
            "Correct!\n",
            "What is 7 % 3? 1\n",
            "Correct!\n",
            "What is 4 * 3? 1\n",
            "Incorrect.\n",
            "Your score is 4 out of 5.\n"
          ]
        }
      ]
    },
    {
      "cell_type": "code",
      "source": [
        "import random\n",
        "\n",
        "def math_quiz():\n",
        "    score = 0\n",
        "    questions = [\n",
        "        # Easy Level\n",
        "        [\n",
        "            {\"question\": \"What is 2 + 2?\", \"answer\": 4},\n",
        "            {\"question\": \"What is 5 - 3?\", \"answer\": 2},\n",
        "            {\"question\": \"What is 4 * 2?\", \"answer\": 8},\n",
        "            {\"question\": \"What is 8 / 4?\", \"answer\": 2},\n",
        "            {\"question\": \"What is 7 % 3?\", \"answer\": 1},\n",
        "        ],\n",
        "        # Medium Level\n",
        "        [\n",
        "            {\"question\": \"What is 3 + 3 * 3?\", \"answer\": 12},\n",
        "            {\"question\": \"What is (5 + 2) * 3?\", \"answer\": 21},\n",
        "            {\"question\": \"What is 4 * 3 - 2?\", \"answer\": 10},\n",
        "            {\"question\": \"What is 8 / 4 + 2?\", \"answer\": 4},\n",
        "            {\"question\": \"What is 7 % 4?\", \"answer\": 3},\n",
        "        ],\n",
        "        # Hard Level\n",
        "        [\n",
        "            {\"question\": \"What is (3 + 4) * (2 + 5)?\", \"answer\": 49},\n",
        "            {\"question\": \"What is (5 + 2) * (3 + 4)?\", \"answer\": 49},\n",
        "            {\"question\": \"What is (4 * 3) - (2 + 1)?\", \"answer\": 9},\n",
        "            {\"question\": \"What is (8 / 4) + (2 * 3)?\", \"answer\": 8},\n",
        "            {\"question\": \"What is (7 % 4) * (6 + 3)?\", \"answer\": 27},\n",
        "        ],\n",
        "    ]\n",
        "\n",
        "    level = input(\"Select level of difficulty (easy, medium, hard): \")\n",
        "    level = level.lower()\n",
        "    if level == \"easy\":\n",
        "        level_index = 0\n",
        "    elif level == \"medium\":\n",
        "        level_index = 1\n",
        "    elif level == \"hard\":\n",
        "        level_index = 2\n",
        "    else:\n",
        "        print(\"Invalid level selected.\")\n",
        "        return\n",
        "\n",
        "    random.shuffle(questions[level_index])\n",
        "    for question in questions[level_index]:\n",
        "        user_answer = input(question[\"question\"] + \" \")\n",
        "        if int(user_answer) == question[\"answer\"]:\n",
        "            score += 1\n",
        "            print(\"Correct!\")\n",
        "        else:\n",
        "            print(\"Incorrect.\")\n",
        "    print(f\"Your score is {score} out of {len(questions[level_index])}.\")\n",
        "\n",
        "math_quiz()"
      ],
      "metadata": {
        "colab": {
          "base_uri": "https://localhost:8080/"
        },
        "id": "eu1aVccW8qJ5",
        "outputId": "602f8934-3716-472b-c5d6-c3d6f4a13bd9"
      },
      "execution_count": 4,
      "outputs": [
        {
          "output_type": "stream",
          "name": "stdout",
          "text": [
            "Select level of difficulty (easy, medium, hard): hard\n",
            "What is (4 * 3) - (2 + 1)? 8\n",
            "Incorrect.\n",
            "What is (7 % 4) * (6 + 3)? 27\n",
            "Correct!\n",
            "What is (5 + 2) * (3 + 4)? 49\n",
            "Correct!\n",
            "What is (3 + 4) * (2 + 5)? 49\n",
            "Correct!\n",
            "What is (8 / 4) + (2 * 3)? 8\n",
            "Correct!\n",
            "Your score is 4 out of 5.\n"
          ]
        }
      ]
    }
  ]
}