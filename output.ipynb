{
  "nbformat": 4,
  "nbformat_minor": 0,
  "metadata": {
    "colab": {
      "provenance": [],
      "authorship_tag": "ABX9TyM4ekORMsEl6q//BQyHTQnu",
      "include_colab_link": true
    },
    "kernelspec": {
      "name": "python3",
      "display_name": "Python 3"
    },
    "language_info": {
      "name": "python"
    }
  },
  "cells": [
    {
      "cell_type": "markdown",
      "metadata": {
        "id": "view-in-github",
        "colab_type": "text"
      },
      "source": [
        "<a href=\"https://colab.research.google.com/github/allenpatrickargente/CPEN65-2-1/blob/main/output.ipynb\" target=\"_parent\"><img src=\"https://colab.research.google.com/assets/colab-badge.svg\" alt=\"Open In Colab\"/></a>"
      ]
    },
    {
      "cell_type": "code",
      "execution_count": null,
      "metadata": {
        "colab": {
          "base_uri": "https://localhost:8080/"
        },
        "id": "VpKw3Uvy4fbh",
        "outputId": "9aa70000-101c-41f3-d796-5ec4cc98cb5a"
      },
      "outputs": [
        {
          "output_type": "stream",
          "name": "stdout",
          "text": [
            "Enter the difficulty level (easy, medium, hard): hard\n",
            "5 * 5 = 25\n",
            "Correct!\n",
            "Quiz complete. You scored 1 out of 1.\n"
          ]
        }
      ],
      "source": [
        "class Node:\n",
        "    def __init__(self, data, next=None):\n",
        "        self.data = data\n",
        "        self.next = next\n",
        "\n",
        "class Quiz:\n",
        "    def __init__(self):\n",
        "        self.easy_questions = None\n",
        "        self.medium_questions = None\n",
        "        self.hard_questions = None\n",
        "\n",
        "    def add_question(self, question, answer, difficulty):\n",
        "        new_node = Node((question, answer))\n",
        "        if difficulty == \"easy\":\n",
        "            new_node.next = self.easy_questions\n",
        "            self.easy_questions = new_node\n",
        "        elif difficulty == \"medium\":\n",
        "            new_node.next = self.medium_questions\n",
        "            self.medium_questions = new_node\n",
        "        elif difficulty == \"hard\":\n",
        "            new_node.next = self.hard_questions\n",
        "            self.hard_questions = new_node\n",
        "\n",
        "    def take_quiz(self, difficulty):\n",
        "        if difficulty == \"easy\":\n",
        "            current = self.easy_questions\n",
        "        elif difficulty == \"medium\":\n",
        "            current = self.medium_questions\n",
        "        elif difficulty == \"hard\":\n",
        "            current = self.hard_questions\n",
        "        else:\n",
        "            print(\"Invalid difficulty level\")\n",
        "            return\n",
        "\n",
        "        score = 0\n",
        "        while current:\n",
        "            question, answer = current.data\n",
        "            user_answer = input(question + \" = \")\n",
        "            if user_answer == str(answer):\n",
        "                score += 1\n",
        "                print(\"Correct!\")\n",
        "            else:\n",
        "                print(\"Incorrect.\")\n",
        "            current = current.next\n",
        "        print(\"Quiz complete. You scored \" + str(score) + \" out of \" + str(self.question_count(difficulty)) + \".\")\n",
        "\n",
        "    def question_count(self, difficulty):\n",
        "        if difficulty == \"easy\":\n",
        "            current = self.easy_questions\n",
        "        elif difficulty == \"medium\":\n",
        "            current = self.medium_questions\n",
        "        elif difficulty == \"hard\":\n",
        "            current = self.hard_questions\n",
        "        else:\n",
        "            return None\n",
        "\n",
        "        count = 0\n",
        "        while current:\n",
        "            count += 1\n",
        "            current = current.next\n",
        "        return count\n",
        "\n",
        "quiz = Quiz()\n",
        "quiz.add_question(\"2 + 2\", 4, \"easy\")\n",
        "quiz.add_question(\"5 - 3\", 2, \"easy\")\n",
        "quiz.add_question(\"10 * 2\", 20, \"medium\")\n",
        "quiz.add_question(\"5 * 5\", 25, \"hard\")\n",
        "difficulty = input(\"Enter the difficulty level (easy, medium, hard): \")\n",
        "quiz.take_quiz(difficulty)"
      ]
    },
    {
      "cell_type": "code",
      "source": [],
      "metadata": {
        "colab": {
          "base_uri": "https://localhost:8080/"
        },
        "id": "aEE4cEp0723i",
        "outputId": "5e448f24-b02f-42a7-81e2-2b69d02e594b"
      },
      "execution_count": null,
      "outputs": [
        {
          "output_type": "stream",
          "name": "stdout",
          "text": [
            "What is 2 + 2? 4\n",
            "Correct!\n",
            "What is 8 / 4? 2\n",
            "Correct!\n",
            "What is 5 - 3? 2\n",
            "Correct!\n",
            "What is 7 % 3? 1\n",
            "Correct!\n",
            "What is 4 * 3? 1\n",
            "Incorrect.\n",
            "Your score is 4 out of 5.\n"
          ]
        }
      ]
    },
    {
      "cell_type": "code",
      "source": [
        "import random\n",
        "\n",
        "def math_quiz():\n",
        "    score = 0\n",
        "    questions = [\n",
        "        # Easy Level\n",
        "        [\n",
        "            {\"question\": \"What is 2 + 2?\", \"answer\": 4},\n",
        "            {\"question\": \"What is 5 - 3?\", \"answer\": 2},\n",
        "            {\"question\": \"What is 4 * 2?\", \"answer\": 8},\n",
        "            {\"question\": \"What is 8 / 4?\", \"answer\": 2},\n",
        "            {\"question\": \"What is 7 % 3?\", \"answer\": 1},\n",
        "        ],\n",
        "        # Medium Level\n",
        "        [\n",
        "            {\"question\": \"What is 3 + 3 * 3?\", \"answer\": 12},\n",
        "            {\"question\": \"What is (5 + 2) * 3?\", \"answer\": 21},\n",
        "            {\"question\": \"What is 4 * 3 - 2?\", \"answer\": 10},\n",
        "            {\"question\": \"What is 8 / 4 + 2?\", \"answer\": 4},\n",
        "            {\"question\": \"What is 7 % 4?\", \"answer\": 3},\n",
        "        ],\n",
        "        # Hard Level\n",
        "        [\n",
        "            {\"question\": \"What is (3 + 4) * (2 + 5)?\", \"answer\": 63},\n",
        "            {\"question\": \"What is (5 + 2) * (3 + 4)?\", \"answer\": 45},\n",
        "            {\"question\": \"What is (4 * 3) - (2 + 1)?\", \"answer\": 10},\n",
        "            {\"question\": \"What is (8 / 4) + (2 * 3)?\", \"answer\": 5},\n",
        "            {\"question\": \"What is (7 % 4) * (6 + 3)?\", \"answer\": 9},\n",
        "        ],\n",
        "    ]\n",
        "\n",
        "    level = input(\"Select level of difficulty (easy, medium, hard): \")\n",
        "    level = level.lower()\n",
        "    if level == \"easy\":\n",
        "        level_index = 0\n",
        "    elif level == \"medium\":\n",
        "        level_index = 1\n",
        "    elif level == \"hard\":\n",
        "        level_index = 2\n",
        "    else:\n",
        "        print(\"Invalid level selected.\")\n",
        "        return\n",
        "\n",
        "    random.shuffle(questions[level_index])\n",
        "    for question in questions[level_index]:\n",
        "        user_answer = input(question[\"question\"] + \" \")\n",
        "        if int(user_answer) == question[\"answer\"]:\n",
        "            score += 1\n",
        "            print(\"Correct!\")\n",
        "        else:\n",
        "            print(\"Incorrect.\")\n",
        "    print(f\"Your score is {score} out of {len(questions[level_index])}.\")\n",
        "\n",
        "math_quiz()"
      ],
      "metadata": {
        "colab": {
          "base_uri": "https://localhost:8080/",
          "height": 363
        },
        "id": "eu1aVccW8qJ5",
        "outputId": "c647a835-1014-47a8-8f2e-d66dea82fa6e"
      },
      "execution_count": 1,
      "outputs": [
        {
          "name": "stdout",
          "output_type": "stream",
          "text": [
            "Select level of difficulty (easy, medium, hard): hard\n"
          ]
        },
        {
          "output_type": "error",
          "ename": "KeyboardInterrupt",
          "evalue": "ignored",
          "traceback": [
            "\u001b[0;31m---------------------------------------------------------------------------\u001b[0m",
            "\u001b[0;31mKeyboardInterrupt\u001b[0m                         Traceback (most recent call last)",
            "\u001b[0;32m<ipython-input-1-7042ce15f169>\u001b[0m in \u001b[0;36m<module>\u001b[0;34m\u001b[0m\n\u001b[1;32m     52\u001b[0m     \u001b[0mprint\u001b[0m\u001b[0;34m(\u001b[0m\u001b[0;34mf\"Your score is {score} out of {len(questions[level_index])}.\"\u001b[0m\u001b[0;34m)\u001b[0m\u001b[0;34m\u001b[0m\u001b[0;34m\u001b[0m\u001b[0m\n\u001b[1;32m     53\u001b[0m \u001b[0;34m\u001b[0m\u001b[0m\n\u001b[0;32m---> 54\u001b[0;31m \u001b[0mmath_quiz\u001b[0m\u001b[0;34m(\u001b[0m\u001b[0;34m)\u001b[0m\u001b[0;34m\u001b[0m\u001b[0;34m\u001b[0m\u001b[0m\n\u001b[0m",
            "\u001b[0;32m<ipython-input-1-7042ce15f169>\u001b[0m in \u001b[0;36mmath_quiz\u001b[0;34m()\u001b[0m\n\u001b[1;32m     44\u001b[0m     \u001b[0mrandom\u001b[0m\u001b[0;34m.\u001b[0m\u001b[0mshuffle\u001b[0m\u001b[0;34m(\u001b[0m\u001b[0mquestions\u001b[0m\u001b[0;34m[\u001b[0m\u001b[0mlevel_index\u001b[0m\u001b[0;34m]\u001b[0m\u001b[0;34m)\u001b[0m\u001b[0;34m\u001b[0m\u001b[0;34m\u001b[0m\u001b[0m\n\u001b[1;32m     45\u001b[0m     \u001b[0;32mfor\u001b[0m \u001b[0mquestion\u001b[0m \u001b[0;32min\u001b[0m \u001b[0mquestions\u001b[0m\u001b[0;34m[\u001b[0m\u001b[0mlevel_index\u001b[0m\u001b[0;34m]\u001b[0m\u001b[0;34m:\u001b[0m\u001b[0;34m\u001b[0m\u001b[0;34m\u001b[0m\u001b[0m\n\u001b[0;32m---> 46\u001b[0;31m         \u001b[0muser_answer\u001b[0m \u001b[0;34m=\u001b[0m \u001b[0minput\u001b[0m\u001b[0;34m(\u001b[0m\u001b[0mquestion\u001b[0m\u001b[0;34m[\u001b[0m\u001b[0;34m\"question\"\u001b[0m\u001b[0;34m]\u001b[0m \u001b[0;34m+\u001b[0m \u001b[0;34m\" \"\u001b[0m\u001b[0;34m)\u001b[0m\u001b[0;34m\u001b[0m\u001b[0;34m\u001b[0m\u001b[0m\n\u001b[0m\u001b[1;32m     47\u001b[0m         \u001b[0;32mif\u001b[0m \u001b[0mint\u001b[0m\u001b[0;34m(\u001b[0m\u001b[0muser_answer\u001b[0m\u001b[0;34m)\u001b[0m \u001b[0;34m==\u001b[0m \u001b[0mquestion\u001b[0m\u001b[0;34m[\u001b[0m\u001b[0;34m\"answer\"\u001b[0m\u001b[0;34m]\u001b[0m\u001b[0;34m:\u001b[0m\u001b[0;34m\u001b[0m\u001b[0;34m\u001b[0m\u001b[0m\n\u001b[1;32m     48\u001b[0m             \u001b[0mscore\u001b[0m \u001b[0;34m+=\u001b[0m \u001b[0;36m1\u001b[0m\u001b[0;34m\u001b[0m\u001b[0;34m\u001b[0m\u001b[0m\n",
            "\u001b[0;32m/usr/local/lib/python3.8/dist-packages/ipykernel/kernelbase.py\u001b[0m in \u001b[0;36mraw_input\u001b[0;34m(self, prompt)\u001b[0m\n\u001b[1;32m    858\u001b[0m                 \u001b[0;34m\"raw_input was called, but this frontend does not support input requests.\"\u001b[0m\u001b[0;34m\u001b[0m\u001b[0;34m\u001b[0m\u001b[0m\n\u001b[1;32m    859\u001b[0m             )\n\u001b[0;32m--> 860\u001b[0;31m         return self._input_request(str(prompt),\n\u001b[0m\u001b[1;32m    861\u001b[0m             \u001b[0mself\u001b[0m\u001b[0;34m.\u001b[0m\u001b[0m_parent_ident\u001b[0m\u001b[0;34m,\u001b[0m\u001b[0;34m\u001b[0m\u001b[0;34m\u001b[0m\u001b[0m\n\u001b[1;32m    862\u001b[0m             \u001b[0mself\u001b[0m\u001b[0;34m.\u001b[0m\u001b[0m_parent_header\u001b[0m\u001b[0;34m,\u001b[0m\u001b[0;34m\u001b[0m\u001b[0;34m\u001b[0m\u001b[0m\n",
            "\u001b[0;32m/usr/local/lib/python3.8/dist-packages/ipykernel/kernelbase.py\u001b[0m in \u001b[0;36m_input_request\u001b[0;34m(self, prompt, ident, parent, password)\u001b[0m\n\u001b[1;32m    902\u001b[0m             \u001b[0;32mexcept\u001b[0m \u001b[0mKeyboardInterrupt\u001b[0m\u001b[0;34m:\u001b[0m\u001b[0;34m\u001b[0m\u001b[0;34m\u001b[0m\u001b[0m\n\u001b[1;32m    903\u001b[0m                 \u001b[0;31m# re-raise KeyboardInterrupt, to truncate traceback\u001b[0m\u001b[0;34m\u001b[0m\u001b[0;34m\u001b[0m\u001b[0;34m\u001b[0m\u001b[0m\n\u001b[0;32m--> 904\u001b[0;31m                 \u001b[0;32mraise\u001b[0m \u001b[0mKeyboardInterrupt\u001b[0m\u001b[0;34m(\u001b[0m\u001b[0;34m\"Interrupted by user\"\u001b[0m\u001b[0;34m)\u001b[0m \u001b[0;32mfrom\u001b[0m \u001b[0;32mNone\u001b[0m\u001b[0;34m\u001b[0m\u001b[0;34m\u001b[0m\u001b[0m\n\u001b[0m\u001b[1;32m    905\u001b[0m             \u001b[0;32mexcept\u001b[0m \u001b[0mException\u001b[0m \u001b[0;32mas\u001b[0m \u001b[0me\u001b[0m\u001b[0;34m:\u001b[0m\u001b[0;34m\u001b[0m\u001b[0;34m\u001b[0m\u001b[0m\n\u001b[1;32m    906\u001b[0m                 \u001b[0mself\u001b[0m\u001b[0;34m.\u001b[0m\u001b[0mlog\u001b[0m\u001b[0;34m.\u001b[0m\u001b[0mwarning\u001b[0m\u001b[0;34m(\u001b[0m\u001b[0;34m\"Invalid Message:\"\u001b[0m\u001b[0;34m,\u001b[0m \u001b[0mexc_info\u001b[0m\u001b[0;34m=\u001b[0m\u001b[0;32mTrue\u001b[0m\u001b[0;34m)\u001b[0m\u001b[0;34m\u001b[0m\u001b[0;34m\u001b[0m\u001b[0m\n",
            "\u001b[0;31mKeyboardInterrupt\u001b[0m: Interrupted by user"
          ]
        }
      ]
    }
  ]
}